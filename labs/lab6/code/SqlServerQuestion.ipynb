{
 "cells": [
  {
   "cell_type": "code",
   "execution_count": 15,
   "metadata": {},
   "outputs": [
    {
     "name": "stdout",
     "output_type": "stream",
     "text": [
      "\n",
      "Id: D1     Name: Management\n",
      "Proj#\tName\tTotal Hours\n",
      "P1    \t Instruments \t 36\n",
      "\n",
      "Id: D2     Name: Consulting\n",
      "Proj#\tName\tTotal Hours\n",
      "P4    \t Maintenance \t 96\n",
      "\n",
      "Id: D3     Name: Accounting\n",
      "Proj#\tName\tTotal Hours\n",
      "P3    \t Budget \t 46\n"
     ]
    }
   ],
   "source": [
    "import pyodbc \n",
    "try:\n",
    "    cnx = pyodbc.connect(\"\"\"DRIVER={ODBC Driver 17 for SQL Server};SERVER=sql04.ok.ubc.ca;\n",
    "                        DATABASE=workson;UID=rlawrenc;PWD=todo\"\"\")\n",
    "    cursor = cnx.cursor()\n",
    "    sql = \"\"\"SELECT D.dno, dname, P.pno, pname, SUM(hours)\n",
    "             FROM Dept D, Proj P, WorksOn W\n",
    "             WHERE D.dno = P.dno AND P.pno = W.pno\n",
    "             GROUP BY D.dno, dname, P.pno, pname\n",
    "             ORDER BY D.dno ASC, SUM(hours) DESC\"\"\"\n",
    "    cursor.execute(sql) \n",
    "    \n",
    "    last = None\n",
    "    count = 0\n",
    "\n",
    "    for row in cursor:\n",
    "        current = row[0]\n",
    "        if last == None or last != current:\n",
    "            last = current\n",
    "            count = 0\n",
    "            print(\"\\nId:\", current,\" Name:\", row[1])\n",
    "            print(\"Proj#\\tName\\tTotal Hours\")\n",
    "            \n",
    "        if count < 1:  # Only want top 1 if change this to 5 would produce top 5\n",
    "            print(row[2],\"\\t\",row[3],\"\\t\",str(row[4]))\n",
    "            count+=1\n",
    "\n",
    "except pyodbc.Error as err:  \n",
    "    print(err)\n",
    "finally:\n",
    "    cnx.close()"
   ]
  },
  {
   "cell_type": "code",
   "execution_count": null,
   "metadata": {},
   "outputs": [],
   "source": []
  }
 ],
 "metadata": {
  "kernelspec": {
   "display_name": "Python 3",
   "language": "python",
   "name": "python3"
  },
  "language_info": {
   "codemirror_mode": {
    "name": "ipython",
    "version": 3
   },
   "file_extension": ".py",
   "mimetype": "text/x-python",
   "name": "python",
   "nbconvert_exporter": "python",
   "pygments_lexer": "ipython3",
   "version": "3.6.4"
  }
 },
 "nbformat": 4,
 "nbformat_minor": 2
}
